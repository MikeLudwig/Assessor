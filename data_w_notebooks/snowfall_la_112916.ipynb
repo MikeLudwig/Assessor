{
 "cells": [
  {
   "cell_type": "code",
   "execution_count": 1,
   "metadata": {
    "collapsed": false
   },
   "outputs": [
    {
     "name": "stderr",
     "output_type": "stream",
     "text": [
      "C:\\Users\\382365\\AppData\\Local\\Continuum\\Anaconda3\\lib\\site-packages\\IPython\\core\\interactiveshell.py:2717: DtypeWarning: Columns (2,3,4) have mixed types. Specify dtype option on import or set low_memory=False.\n",
      "  interactivity=interactivity, compiler=compiler, result=result)\n"
     ]
    }
   ],
   "source": [
    "import numpy as np\n",
    "import pandas as pd\n",
    "\n",
    "work_dir = 'C:/Users/382365/Downloads/'\n",
    "filename = 'snowfall_la_noaa.csv'\n",
    "snowfall_df = pd.read_csv(work_dir + filename)"
   ]
  },
  {
   "cell_type": "code",
   "execution_count": 6,
   "metadata": {
    "collapsed": false
   },
   "outputs": [
    {
     "data": {
      "text/html": [
       "<div>\n",
       "<table border=\"1\" class=\"dataframe\">\n",
       "  <thead>\n",
       "    <tr style=\"text-align: right;\">\n",
       "      <th></th>\n",
       "      <th>STATION</th>\n",
       "      <th>STATION_NAME</th>\n",
       "      <th>ELEVATION</th>\n",
       "      <th>LATITUDE</th>\n",
       "      <th>LONGITUDE</th>\n",
       "      <th>DATE</th>\n",
       "      <th>MDPR</th>\n",
       "      <th>DAPR</th>\n",
       "      <th>PRCP</th>\n",
       "      <th>SNWD</th>\n",
       "      <th>SNOW</th>\n",
       "    </tr>\n",
       "  </thead>\n",
       "  <tbody>\n",
       "    <tr>\n",
       "      <th>336092</th>\n",
       "      <td>GHCND:USC00046006</td>\n",
       "      <td>MOUNT WILSON CBS CA US</td>\n",
       "      <td>1740.1</td>\n",
       "      <td>34.2264</td>\n",
       "      <td>-118.065</td>\n",
       "      <td>20010306</td>\n",
       "      <td>-9999.0</td>\n",
       "      <td>-9999</td>\n",
       "      <td>1.92</td>\n",
       "      <td>27.0</td>\n",
       "      <td>2.0</td>\n",
       "    </tr>\n",
       "    <tr>\n",
       "      <th>336096</th>\n",
       "      <td>GHCND:USC00046006</td>\n",
       "      <td>MOUNT WILSON CBS CA US</td>\n",
       "      <td>1740.1</td>\n",
       "      <td>34.2264</td>\n",
       "      <td>-118.065</td>\n",
       "      <td>20010310</td>\n",
       "      <td>-9999.0</td>\n",
       "      <td>-9999</td>\n",
       "      <td>0.30</td>\n",
       "      <td>24.0</td>\n",
       "      <td>2.0</td>\n",
       "    </tr>\n",
       "    <tr>\n",
       "      <th>336124</th>\n",
       "      <td>GHCND:USC00046006</td>\n",
       "      <td>MOUNT WILSON CBS CA US</td>\n",
       "      <td>1740.1</td>\n",
       "      <td>34.2264</td>\n",
       "      <td>-118.065</td>\n",
       "      <td>20010407</td>\n",
       "      <td>-9999.0</td>\n",
       "      <td>-9999</td>\n",
       "      <td>1.59</td>\n",
       "      <td>3.0</td>\n",
       "      <td>3.0</td>\n",
       "    </tr>\n",
       "    <tr>\n",
       "      <th>336138</th>\n",
       "      <td>GHCND:USC00046006</td>\n",
       "      <td>MOUNT WILSON CBS CA US</td>\n",
       "      <td>1740.1</td>\n",
       "      <td>34.2264</td>\n",
       "      <td>-118.065</td>\n",
       "      <td>20010421</td>\n",
       "      <td>-9999.0</td>\n",
       "      <td>-9999</td>\n",
       "      <td>1.50</td>\n",
       "      <td>1.0</td>\n",
       "      <td>1.0</td>\n",
       "    </tr>\n",
       "  </tbody>\n",
       "</table>\n",
       "</div>"
      ],
      "text/plain": [
       "                  STATION            STATION_NAME ELEVATION LATITUDE  \\\n",
       "336092  GHCND:USC00046006  MOUNT WILSON CBS CA US    1740.1  34.2264   \n",
       "336096  GHCND:USC00046006  MOUNT WILSON CBS CA US    1740.1  34.2264   \n",
       "336124  GHCND:USC00046006  MOUNT WILSON CBS CA US    1740.1  34.2264   \n",
       "336138  GHCND:USC00046006  MOUNT WILSON CBS CA US    1740.1  34.2264   \n",
       "\n",
       "       LONGITUDE      DATE    MDPR  DAPR  PRCP  SNWD  SNOW  \n",
       "336092  -118.065  20010306 -9999.0 -9999  1.92  27.0   2.0  \n",
       "336096  -118.065  20010310 -9999.0 -9999  0.30  24.0   2.0  \n",
       "336124  -118.065  20010407 -9999.0 -9999  1.59   3.0   3.0  \n",
       "336138  -118.065  20010421 -9999.0 -9999  1.50   1.0   1.0  "
      ]
     },
     "execution_count": 6,
     "metadata": {},
     "output_type": "execute_result"
    }
   ],
   "source": [
    "snowfall_df[snowfall_df['SNOW']>0]"
   ]
  },
  {
   "cell_type": "code",
   "execution_count": 5,
   "metadata": {
    "collapsed": false
   },
   "outputs": [
    {
     "data": {
      "text/plain": [
       "8.0"
      ]
     },
     "execution_count": 5,
     "metadata": {},
     "output_type": "execute_result"
    }
   ],
   "source": [
    "snowfall_df[snowfall_df['SNOW']>0].SNOW.sum()"
   ]
  },
  {
   "cell_type": "code",
   "execution_count": 8,
   "metadata": {
    "collapsed": false
   },
   "outputs": [
    {
     "data": {
      "text/html": [
       "<div>\n",
       "<table border=\"1\" class=\"dataframe\">\n",
       "  <thead>\n",
       "    <tr style=\"text-align: right;\">\n",
       "      <th></th>\n",
       "      <th>DATE</th>\n",
       "      <th>MDPR</th>\n",
       "      <th>DAPR</th>\n",
       "      <th>PRCP</th>\n",
       "      <th>SNWD</th>\n",
       "      <th>SNOW</th>\n",
       "    </tr>\n",
       "  </thead>\n",
       "  <tbody>\n",
       "    <tr>\n",
       "      <th>count</th>\n",
       "      <td>3.499310e+05</td>\n",
       "      <td>349931.000000</td>\n",
       "      <td>349931.000000</td>\n",
       "      <td>349931.000000</td>\n",
       "      <td>349931.000000</td>\n",
       "      <td>349931.000000</td>\n",
       "    </tr>\n",
       "    <tr>\n",
       "      <th>mean</th>\n",
       "      <td>2.004966e+07</td>\n",
       "      <td>-9992.884381</td>\n",
       "      <td>-9994.255176</td>\n",
       "      <td>-307.901308</td>\n",
       "      <td>-3889.055234</td>\n",
       "      <td>-2777.155499</td>\n",
       "    </tr>\n",
       "    <tr>\n",
       "      <th>std</th>\n",
       "      <td>7.665594e+04</td>\n",
       "      <td>247.225074</td>\n",
       "      <td>217.798503</td>\n",
       "      <td>1727.524086</td>\n",
       "      <td>4874.634738</td>\n",
       "      <td>4478.419667</td>\n",
       "    </tr>\n",
       "    <tr>\n",
       "      <th>min</th>\n",
       "      <td>1.991010e+07</td>\n",
       "      <td>-9999.000000</td>\n",
       "      <td>-9999.000000</td>\n",
       "      <td>-9999.000000</td>\n",
       "      <td>-9999.000000</td>\n",
       "      <td>-9999.000000</td>\n",
       "    </tr>\n",
       "    <tr>\n",
       "      <th>25%</th>\n",
       "      <td>1.998092e+07</td>\n",
       "      <td>-9999.000000</td>\n",
       "      <td>-9999.000000</td>\n",
       "      <td>0.000000</td>\n",
       "      <td>-9999.000000</td>\n",
       "      <td>-9999.000000</td>\n",
       "    </tr>\n",
       "    <tr>\n",
       "      <th>50%</th>\n",
       "      <td>2.006070e+07</td>\n",
       "      <td>-9999.000000</td>\n",
       "      <td>-9999.000000</td>\n",
       "      <td>0.000000</td>\n",
       "      <td>0.000000</td>\n",
       "      <td>0.000000</td>\n",
       "    </tr>\n",
       "    <tr>\n",
       "      <th>75%</th>\n",
       "      <td>2.012030e+07</td>\n",
       "      <td>-9999.000000</td>\n",
       "      <td>-9999.000000</td>\n",
       "      <td>0.000000</td>\n",
       "      <td>0.000000</td>\n",
       "      <td>0.000000</td>\n",
       "    </tr>\n",
       "    <tr>\n",
       "      <th>max</th>\n",
       "      <td>2.016113e+07</td>\n",
       "      <td>8.040000</td>\n",
       "      <td>30.000000</td>\n",
       "      <td>9.290000</td>\n",
       "      <td>39.000000</td>\n",
       "      <td>3.000000</td>\n",
       "    </tr>\n",
       "  </tbody>\n",
       "</table>\n",
       "</div>"
      ],
      "text/plain": [
       "               DATE           MDPR           DAPR           PRCP  \\\n",
       "count  3.499310e+05  349931.000000  349931.000000  349931.000000   \n",
       "mean   2.004966e+07   -9992.884381   -9994.255176    -307.901308   \n",
       "std    7.665594e+04     247.225074     217.798503    1727.524086   \n",
       "min    1.991010e+07   -9999.000000   -9999.000000   -9999.000000   \n",
       "25%    1.998092e+07   -9999.000000   -9999.000000       0.000000   \n",
       "50%    2.006070e+07   -9999.000000   -9999.000000       0.000000   \n",
       "75%    2.012030e+07   -9999.000000   -9999.000000       0.000000   \n",
       "max    2.016113e+07       8.040000      30.000000       9.290000   \n",
       "\n",
       "                SNWD           SNOW  \n",
       "count  349931.000000  349931.000000  \n",
       "mean    -3889.055234   -2777.155499  \n",
       "std      4874.634738    4478.419667  \n",
       "min     -9999.000000   -9999.000000  \n",
       "25%     -9999.000000   -9999.000000  \n",
       "50%         0.000000       0.000000  \n",
       "75%         0.000000       0.000000  \n",
       "max        39.000000       3.000000  "
      ]
     },
     "execution_count": 8,
     "metadata": {},
     "output_type": "execute_result"
    }
   ],
   "source": [
    "snowfall_df.describe()"
   ]
  },
  {
   "cell_type": "code",
   "execution_count": 15,
   "metadata": {
    "collapsed": false
   },
   "outputs": [
    {
     "name": "stderr",
     "output_type": "stream",
     "text": [
      "C:\\Users\\382365\\AppData\\Local\\Continuum\\Anaconda3\\lib\\site-packages\\ipykernel\\__main__.py:1: FutureWarning: the coerce=True keyword is deprecated, use errors='coerce' instead\n",
      "  if __name__ == '__main__':\n"
     ]
    }
   ],
   "source": [
    "snowfall_df['DATE'] = pd.to_datetime(snowfall_df['DATE'], format='%Y%m%d',coerce = True)"
   ]
  },
  {
   "cell_type": "code",
   "execution_count": 17,
   "metadata": {
    "collapsed": false
   },
   "outputs": [
    {
     "data": {
      "text/html": [
       "<div>\n",
       "<table border=\"1\" class=\"dataframe\">\n",
       "  <thead>\n",
       "    <tr style=\"text-align: right;\">\n",
       "      <th></th>\n",
       "      <th>MDPR</th>\n",
       "      <th>DAPR</th>\n",
       "      <th>PRCP</th>\n",
       "      <th>SNWD</th>\n",
       "      <th>SNOW</th>\n",
       "    </tr>\n",
       "  </thead>\n",
       "  <tbody>\n",
       "    <tr>\n",
       "      <th>count</th>\n",
       "      <td>349931.000000</td>\n",
       "      <td>349931.000000</td>\n",
       "      <td>349931.000000</td>\n",
       "      <td>349931.000000</td>\n",
       "      <td>349931.000000</td>\n",
       "    </tr>\n",
       "    <tr>\n",
       "      <th>mean</th>\n",
       "      <td>-9992.884381</td>\n",
       "      <td>-9994.255176</td>\n",
       "      <td>-307.901308</td>\n",
       "      <td>-3889.055234</td>\n",
       "      <td>-2777.155499</td>\n",
       "    </tr>\n",
       "    <tr>\n",
       "      <th>std</th>\n",
       "      <td>247.225074</td>\n",
       "      <td>217.798503</td>\n",
       "      <td>1727.524086</td>\n",
       "      <td>4874.634738</td>\n",
       "      <td>4478.419667</td>\n",
       "    </tr>\n",
       "    <tr>\n",
       "      <th>min</th>\n",
       "      <td>-9999.000000</td>\n",
       "      <td>-9999.000000</td>\n",
       "      <td>-9999.000000</td>\n",
       "      <td>-9999.000000</td>\n",
       "      <td>-9999.000000</td>\n",
       "    </tr>\n",
       "    <tr>\n",
       "      <th>25%</th>\n",
       "      <td>-9999.000000</td>\n",
       "      <td>-9999.000000</td>\n",
       "      <td>0.000000</td>\n",
       "      <td>-9999.000000</td>\n",
       "      <td>-9999.000000</td>\n",
       "    </tr>\n",
       "    <tr>\n",
       "      <th>50%</th>\n",
       "      <td>-9999.000000</td>\n",
       "      <td>-9999.000000</td>\n",
       "      <td>0.000000</td>\n",
       "      <td>0.000000</td>\n",
       "      <td>0.000000</td>\n",
       "    </tr>\n",
       "    <tr>\n",
       "      <th>75%</th>\n",
       "      <td>-9999.000000</td>\n",
       "      <td>-9999.000000</td>\n",
       "      <td>0.000000</td>\n",
       "      <td>0.000000</td>\n",
       "      <td>0.000000</td>\n",
       "    </tr>\n",
       "    <tr>\n",
       "      <th>max</th>\n",
       "      <td>8.040000</td>\n",
       "      <td>30.000000</td>\n",
       "      <td>9.290000</td>\n",
       "      <td>39.000000</td>\n",
       "      <td>3.000000</td>\n",
       "    </tr>\n",
       "  </tbody>\n",
       "</table>\n",
       "</div>"
      ],
      "text/plain": [
       "                MDPR           DAPR           PRCP           SNWD  \\\n",
       "count  349931.000000  349931.000000  349931.000000  349931.000000   \n",
       "mean    -9992.884381   -9994.255176    -307.901308   -3889.055234   \n",
       "std       247.225074     217.798503    1727.524086    4874.634738   \n",
       "min     -9999.000000   -9999.000000   -9999.000000   -9999.000000   \n",
       "25%     -9999.000000   -9999.000000       0.000000   -9999.000000   \n",
       "50%     -9999.000000   -9999.000000       0.000000       0.000000   \n",
       "75%     -9999.000000   -9999.000000       0.000000       0.000000   \n",
       "max         8.040000      30.000000       9.290000      39.000000   \n",
       "\n",
       "                SNOW  \n",
       "count  349931.000000  \n",
       "mean    -2777.155499  \n",
       "std      4478.419667  \n",
       "min     -9999.000000  \n",
       "25%     -9999.000000  \n",
       "50%         0.000000  \n",
       "75%         0.000000  \n",
       "max         3.000000  "
      ]
     },
     "execution_count": 17,
     "metadata": {},
     "output_type": "execute_result"
    }
   ],
   "source": [
    "snowfall_df"
   ]
  },
  {
   "cell_type": "code",
   "execution_count": 24,
   "metadata": {
    "collapsed": false
   },
   "outputs": [
    {
     "data": {
      "text/plain": [
       "349930   -5.339726\n",
       "Name: DATE, dtype: float64"
      ]
     },
     "execution_count": 24,
     "metadata": {},
     "output_type": "execute_result"
    }
   ],
   "source": [
    "(snowfall_df['DATE'].iloc[0] - snowfall_df['DATE'].iloc[-1:]).apply(lambda x: float(x.days)/365)\n"
   ]
  },
  {
   "cell_type": "code",
   "execution_count": null,
   "metadata": {
    "collapsed": true
   },
   "outputs": [],
   "source": []
  }
 ],
 "metadata": {
  "kernelspec": {
   "display_name": "Python [default]",
   "language": "python",
   "name": "python3"
  },
  "language_info": {
   "codemirror_mode": {
    "name": "ipython",
    "version": 3
   },
   "file_extension": ".py",
   "mimetype": "text/x-python",
   "name": "python",
   "nbconvert_exporter": "python",
   "pygments_lexer": "ipython3",
   "version": "3.5.2"
  }
 },
 "nbformat": 4,
 "nbformat_minor": 1
}
